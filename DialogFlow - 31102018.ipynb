{
 "cells": [
  {
   "cell_type": "markdown",
   "metadata": {},
   "source": [
    "## Step 1: Set up variables \n",
    "\n",
    "1. Set up a environment variable that points to the secret key that was shared with everyone. We get this API key using the GCP console.\n",
    "2. Also set up constant values."
   ]
  },
  {
   "cell_type": "code",
   "execution_count": 1,
   "metadata": {},
   "outputs": [],
   "source": [
    "import os\n",
    "os.environ['GOOGLE_APPLICATION_CREDENTIALS'] = 'secret.json'"
   ]
  },
  {
   "cell_type": "code",
   "execution_count": 2,
   "metadata": {},
   "outputs": [],
   "source": [
    "import dialogflow_v2 as dialogflow\n",
    "PROJECT_ID = 'poc1-b624d'\n",
    "SESSION_ID = '12-ab'\n",
    "import pandas as pd\n",
    "# CONTEXT_NAME_INPUT = 'input_context'\n",
    "# CONTEXT_NAME_OUTPUT = 'output_context'\n",
    "# CONTEXT_NAME_INPUT = \"projects/{}/agent/sessions/{}/contexts/{}\".format(PROJECT_ID,SESSION_ID, CONTEXT_NAME_INPUT)\n",
    "# CONTEXT_NAME_OUTPUT = \"projects/{}/agent/sessions/{}/contexts/{}\".format(PROJECT_ID,SESSION_ID, CONTEXT_NAME_OUTPUT) \n",
    "# LIFESPAN = 5"
   ]
  },
  {
   "cell_type": "code",
   "execution_count": 3,
   "metadata": {},
   "outputs": [],
   "source": [
    "?dialogflow.types.Intent"
   ]
  },
  {
   "cell_type": "markdown",
   "metadata": {},
   "source": [
    "## Step 2: Entity creation\n",
    "\n",
    "In this section we will create an entity. We will create the entity value as well as synonyms used for different values in the entity. "
   ]
  },
  {
   "cell_type": "code",
   "execution_count": 4,
   "metadata": {},
   "outputs": [],
   "source": [
    "## This cell contains the code for entity creation.\n",
    "\n",
    "def create_entity_type(project_id, display_name, kind):\n",
    "    \"\"\"Create an entity type with the given display name.\"\"\"\n",
    "    entity_types_client = dialogflow.EntityTypesClient()\n",
    "    parent = entity_types_client.project_agent_path(project_id)\n",
    "    entity_type = dialogflow.types.EntityType(\n",
    "        display_name=display_name, \n",
    "        kind=kind\n",
    "    )\n",
    "    response = entity_types_client.create_entity_type(parent, entity_type)\n",
    "    print('Entity type created: \\n{}'.format(response))\n",
    "    return\n",
    "    \n",
    "    \n",
    "def list_entity_types(project_id):\n",
    "    \"\"\"\n",
    "    This is a helper function that lists down all entities in existence\n",
    "    \"\"\"\n",
    "    entity_types_client = dialogflow.EntityTypesClient()\n",
    "    parent = entity_types_client.project_agent_path(project_id)\n",
    "    entity_types = entity_types_client.list_entity_types(parent)\n",
    "    #\n",
    "    for entity_type in entity_types:\n",
    "        print('Entity type name: {}'.format(entity_type.name))\n",
    "        print('Entity type display name: {}'.format(entity_type.display_name))\n",
    "        print('Number of entities: {}\\n'.format(len(entity_type.entities)))\n",
    "    #\n",
    "    return\n",
    "        \n",
    "        \n",
    "def _get_entity_type_ids(project_id, display_name):\n",
    "    \"\"\"\n",
    "    Helper to get entity_type_id from display name.\n",
    "    \"\"\"\n",
    "    entity_types_client = dialogflow.EntityTypesClient()\n",
    "    #\n",
    "    parent = entity_types_client.project_agent_path(project_id)\n",
    "    entity_types = entity_types_client.list_entity_types(parent)\n",
    "    entity_type_names = [ entity_type.name for entity_type in entity_types if entity_type.display_name == display_name]\n",
    "    entity_type_ids = [ entity_type_name.split('/')[-1] for entity_type_name in entity_type_names]\n",
    "    #\n",
    "    return entity_type_ids\n",
    "\n",
    "\n",
    "def create_entity(project_id, entity_type_id, entity_value, synonyms):\n",
    "    \"\"\"\n",
    "    Create an entity of the given entity type.\n",
    "    UPDATE : \n",
    "        take entity value as list\n",
    "        take synonymns as list of list\n",
    "    \"\"\"\n",
    "    import dialogflow_v2 as dialogflow\n",
    "    entity_types_client = dialogflow.EntityTypesClient()\n",
    "\n",
    "    # Note: synonyms must be exactly [entity_value] if the\n",
    "    # entity_type's kind is KIND_LIST\n",
    "    \n",
    "    synonyms = synonyms or [entity_value]\n",
    "\n",
    "    entity_type_path = entity_types_client.entity_type_path(\n",
    "        project_id, entity_type_id)\n",
    "    #\n",
    "    entity_arr = []\n",
    "    for i in range(len(entity_value)) : \n",
    "        # Create entity    \n",
    "        entity = dialogflow.types.EntityType.Entity()\n",
    "        entity.value = entity_value[i]\n",
    "        entity.synonyms.extend(synonyms[i])\n",
    "        entity_arr += [entity]\n",
    "    #\n",
    "    response = entity_types_client.batch_create_entities(\n",
    "        entity_type_path, \n",
    "        entity_arr\n",
    "    )\n",
    "\n",
    "    print('Entity created: {}'.format(response))\n",
    "    return"
   ]
  },
  {
   "cell_type": "code",
   "execution_count": 5,
   "metadata": {},
   "outputs": [
    {
     "ename": "FailedPrecondition",
     "evalue": "400 EntityType with display_name 'PAYER' already exists.",
     "output_type": "error",
     "traceback": [
      "\u001b[1;31m---------------------------------------------------------------------------\u001b[0m",
      "\u001b[1;31m_Rendezvous\u001b[0m                               Traceback (most recent call last)",
      "\u001b[1;32m~\\AppData\\Local\\Continuum\\anaconda3\\lib\\site-packages\\google\\api_core\\grpc_helpers.py\u001b[0m in \u001b[0;36merror_remapped_callable\u001b[1;34m(*args, **kwargs)\u001b[0m\n\u001b[0;32m     58\u001b[0m         \u001b[1;32mtry\u001b[0m\u001b[1;33m:\u001b[0m\u001b[1;33m\u001b[0m\u001b[0m\n\u001b[1;32m---> 59\u001b[1;33m             \u001b[1;32mreturn\u001b[0m \u001b[0mcallable_\u001b[0m\u001b[1;33m(\u001b[0m\u001b[1;33m*\u001b[0m\u001b[0margs\u001b[0m\u001b[1;33m,\u001b[0m \u001b[1;33m**\u001b[0m\u001b[0mkwargs\u001b[0m\u001b[1;33m)\u001b[0m\u001b[1;33m\u001b[0m\u001b[0m\n\u001b[0m\u001b[0;32m     60\u001b[0m         \u001b[1;32mexcept\u001b[0m \u001b[0mgrpc\u001b[0m\u001b[1;33m.\u001b[0m\u001b[0mRpcError\u001b[0m \u001b[1;32mas\u001b[0m \u001b[0mexc\u001b[0m\u001b[1;33m:\u001b[0m\u001b[1;33m\u001b[0m\u001b[0m\n",
      "\u001b[1;32m~\\AppData\\Local\\Continuum\\anaconda3\\lib\\site-packages\\grpc\\_channel.py\u001b[0m in \u001b[0;36m__call__\u001b[1;34m(self, request, timeout, metadata, credentials)\u001b[0m\n\u001b[0;32m    532\u001b[0m         \u001b[0mstate\u001b[0m\u001b[1;33m,\u001b[0m \u001b[0mcall\u001b[0m\u001b[1;33m,\u001b[0m \u001b[1;33m=\u001b[0m \u001b[0mself\u001b[0m\u001b[1;33m.\u001b[0m\u001b[0m_blocking\u001b[0m\u001b[1;33m(\u001b[0m\u001b[0mrequest\u001b[0m\u001b[1;33m,\u001b[0m \u001b[0mtimeout\u001b[0m\u001b[1;33m,\u001b[0m \u001b[0mmetadata\u001b[0m\u001b[1;33m,\u001b[0m \u001b[0mcredentials\u001b[0m\u001b[1;33m)\u001b[0m\u001b[1;33m\u001b[0m\u001b[0m\n\u001b[1;32m--> 533\u001b[1;33m         \u001b[1;32mreturn\u001b[0m \u001b[0m_end_unary_response_blocking\u001b[0m\u001b[1;33m(\u001b[0m\u001b[0mstate\u001b[0m\u001b[1;33m,\u001b[0m \u001b[0mcall\u001b[0m\u001b[1;33m,\u001b[0m \u001b[1;32mFalse\u001b[0m\u001b[1;33m,\u001b[0m \u001b[1;32mNone\u001b[0m\u001b[1;33m)\u001b[0m\u001b[1;33m\u001b[0m\u001b[0m\n\u001b[0m\u001b[0;32m    534\u001b[0m \u001b[1;33m\u001b[0m\u001b[0m\n",
      "\u001b[1;32m~\\AppData\\Local\\Continuum\\anaconda3\\lib\\site-packages\\grpc\\_channel.py\u001b[0m in \u001b[0;36m_end_unary_response_blocking\u001b[1;34m(state, call, with_call, deadline)\u001b[0m\n\u001b[0;32m    466\u001b[0m     \u001b[1;32melse\u001b[0m\u001b[1;33m:\u001b[0m\u001b[1;33m\u001b[0m\u001b[0m\n\u001b[1;32m--> 467\u001b[1;33m         \u001b[1;32mraise\u001b[0m \u001b[0m_Rendezvous\u001b[0m\u001b[1;33m(\u001b[0m\u001b[0mstate\u001b[0m\u001b[1;33m,\u001b[0m \u001b[1;32mNone\u001b[0m\u001b[1;33m,\u001b[0m \u001b[1;32mNone\u001b[0m\u001b[1;33m,\u001b[0m \u001b[0mdeadline\u001b[0m\u001b[1;33m)\u001b[0m\u001b[1;33m\u001b[0m\u001b[0m\n\u001b[0m\u001b[0;32m    468\u001b[0m \u001b[1;33m\u001b[0m\u001b[0m\n",
      "\u001b[1;31m_Rendezvous\u001b[0m: <_Rendezvous of RPC that terminated with:\n\tstatus = StatusCode.FAILED_PRECONDITION\n\tdetails = \"EntityType with display_name 'PAYER' already exists.\"\n\tdebug_error_string = \"{\"created\":\"@1543250479.577000000\",\"description\":\"Error received from peer\",\"file\":\"src/core/lib/surface/call.cc\",\"file_line\":1017,\"grpc_message\":\"EntityType with display_name 'PAYER' already exists.\",\"grpc_status\":9}\"\n>",
      "\nThe above exception was the direct cause of the following exception:\n",
      "\u001b[1;31mFailedPrecondition\u001b[0m                        Traceback (most recent call last)",
      "\u001b[1;32m<ipython-input-5-54d50f1de3e9>\u001b[0m in \u001b[0;36m<module>\u001b[1;34m()\u001b[0m\n\u001b[0;32m      8\u001b[0m     create_entity_type(project_id = PROJECT_ID, \n\u001b[0;32m      9\u001b[0m                \u001b[0mdisplay_name\u001b[0m \u001b[1;33m=\u001b[0m \u001b[1;34m'{}'\u001b[0m\u001b[1;33m.\u001b[0m\u001b[0mformat\u001b[0m\u001b[1;33m(\u001b[0m\u001b[0msname\u001b[0m \u001b[1;33m)\u001b[0m\u001b[1;33m,\u001b[0m\u001b[1;33m\u001b[0m\u001b[0m\n\u001b[1;32m---> 10\u001b[1;33m                kind = 'KIND_MAP')\n\u001b[0m\u001b[0;32m     11\u001b[0m \u001b[1;33m\u001b[0m\u001b[0m\n\u001b[0;32m     12\u001b[0m     \u001b[1;31m#\u001b[0m\u001b[1;33m\u001b[0m\u001b[1;33m\u001b[0m\u001b[0m\n",
      "\u001b[1;32m<ipython-input-4-522131b972ff>\u001b[0m in \u001b[0;36mcreate_entity_type\u001b[1;34m(project_id, display_name, kind)\u001b[0m\n\u001b[0;32m      9\u001b[0m         \u001b[0mkind\u001b[0m\u001b[1;33m=\u001b[0m\u001b[0mkind\u001b[0m\u001b[1;33m\u001b[0m\u001b[0m\n\u001b[0;32m     10\u001b[0m     )\n\u001b[1;32m---> 11\u001b[1;33m     \u001b[0mresponse\u001b[0m \u001b[1;33m=\u001b[0m \u001b[0mentity_types_client\u001b[0m\u001b[1;33m.\u001b[0m\u001b[0mcreate_entity_type\u001b[0m\u001b[1;33m(\u001b[0m\u001b[0mparent\u001b[0m\u001b[1;33m,\u001b[0m \u001b[0mentity_type\u001b[0m\u001b[1;33m)\u001b[0m\u001b[1;33m\u001b[0m\u001b[0m\n\u001b[0m\u001b[0;32m     12\u001b[0m     \u001b[0mprint\u001b[0m\u001b[1;33m(\u001b[0m\u001b[1;34m'Entity type created: \\n{}'\u001b[0m\u001b[1;33m.\u001b[0m\u001b[0mformat\u001b[0m\u001b[1;33m(\u001b[0m\u001b[0mresponse\u001b[0m\u001b[1;33m)\u001b[0m\u001b[1;33m)\u001b[0m\u001b[1;33m\u001b[0m\u001b[0m\n\u001b[0;32m     13\u001b[0m     \u001b[1;32mreturn\u001b[0m\u001b[1;33m\u001b[0m\u001b[0m\n",
      "\u001b[1;32m~\\AppData\\Local\\Continuum\\anaconda3\\lib\\site-packages\\dialogflow_v2\\gapic\\entity_types_client.py\u001b[0m in \u001b[0;36mcreate_entity_type\u001b[1;34m(self, parent, entity_type, language_code, retry, timeout, metadata)\u001b[0m\n\u001b[0;32m    441\u001b[0m         )\n\u001b[0;32m    442\u001b[0m         return self._inner_api_calls['create_entity_type'](\n\u001b[1;32m--> 443\u001b[1;33m             request, retry=retry, timeout=timeout, metadata=metadata)\n\u001b[0m\u001b[0;32m    444\u001b[0m \u001b[1;33m\u001b[0m\u001b[0m\n\u001b[0;32m    445\u001b[0m     def update_entity_type(self,\n",
      "\u001b[1;32m~\\AppData\\Local\\Continuum\\anaconda3\\lib\\site-packages\\google\\api_core\\gapic_v1\\method.py\u001b[0m in \u001b[0;36m__call__\u001b[1;34m(self, *args, **kwargs)\u001b[0m\n\u001b[0;32m    137\u001b[0m             \u001b[0mkwargs\u001b[0m\u001b[1;33m[\u001b[0m\u001b[1;34m'metadata'\u001b[0m\u001b[1;33m]\u001b[0m \u001b[1;33m=\u001b[0m \u001b[0mmetadata\u001b[0m\u001b[1;33m\u001b[0m\u001b[0m\n\u001b[0;32m    138\u001b[0m \u001b[1;33m\u001b[0m\u001b[0m\n\u001b[1;32m--> 139\u001b[1;33m         \u001b[1;32mreturn\u001b[0m \u001b[0mwrapped_func\u001b[0m\u001b[1;33m(\u001b[0m\u001b[1;33m*\u001b[0m\u001b[0margs\u001b[0m\u001b[1;33m,\u001b[0m \u001b[1;33m**\u001b[0m\u001b[0mkwargs\u001b[0m\u001b[1;33m)\u001b[0m\u001b[1;33m\u001b[0m\u001b[0m\n\u001b[0m\u001b[0;32m    140\u001b[0m \u001b[1;33m\u001b[0m\u001b[0m\n\u001b[0;32m    141\u001b[0m \u001b[1;33m\u001b[0m\u001b[0m\n",
      "\u001b[1;32m~\\AppData\\Local\\Continuum\\anaconda3\\lib\\site-packages\\google\\api_core\\retry.py\u001b[0m in \u001b[0;36mretry_wrapped_func\u001b[1;34m(*args, **kwargs)\u001b[0m\n\u001b[0;32m    258\u001b[0m                 \u001b[0msleep_generator\u001b[0m\u001b[1;33m,\u001b[0m\u001b[1;33m\u001b[0m\u001b[0m\n\u001b[0;32m    259\u001b[0m                 \u001b[0mself\u001b[0m\u001b[1;33m.\u001b[0m\u001b[0m_deadline\u001b[0m\u001b[1;33m,\u001b[0m\u001b[1;33m\u001b[0m\u001b[0m\n\u001b[1;32m--> 260\u001b[1;33m                 \u001b[0mon_error\u001b[0m\u001b[1;33m=\u001b[0m\u001b[0mon_error\u001b[0m\u001b[1;33m,\u001b[0m\u001b[1;33m\u001b[0m\u001b[0m\n\u001b[0m\u001b[0;32m    261\u001b[0m             )\n\u001b[0;32m    262\u001b[0m \u001b[1;33m\u001b[0m\u001b[0m\n",
      "\u001b[1;32m~\\AppData\\Local\\Continuum\\anaconda3\\lib\\site-packages\\google\\api_core\\retry.py\u001b[0m in \u001b[0;36mretry_target\u001b[1;34m(target, predicate, sleep_generator, deadline, on_error)\u001b[0m\n\u001b[0;32m    175\u001b[0m     \u001b[1;32mfor\u001b[0m \u001b[0msleep\u001b[0m \u001b[1;32min\u001b[0m \u001b[0msleep_generator\u001b[0m\u001b[1;33m:\u001b[0m\u001b[1;33m\u001b[0m\u001b[0m\n\u001b[0;32m    176\u001b[0m         \u001b[1;32mtry\u001b[0m\u001b[1;33m:\u001b[0m\u001b[1;33m\u001b[0m\u001b[0m\n\u001b[1;32m--> 177\u001b[1;33m             \u001b[1;32mreturn\u001b[0m \u001b[0mtarget\u001b[0m\u001b[1;33m(\u001b[0m\u001b[1;33m)\u001b[0m\u001b[1;33m\u001b[0m\u001b[0m\n\u001b[0m\u001b[0;32m    178\u001b[0m \u001b[1;33m\u001b[0m\u001b[0m\n\u001b[0;32m    179\u001b[0m         \u001b[1;31m# pylint: disable=broad-except\u001b[0m\u001b[1;33m\u001b[0m\u001b[1;33m\u001b[0m\u001b[0m\n",
      "\u001b[1;32m~\\AppData\\Local\\Continuum\\anaconda3\\lib\\site-packages\\google\\api_core\\timeout.py\u001b[0m in \u001b[0;36mfunc_with_timeout\u001b[1;34m(*args, **kwargs)\u001b[0m\n\u001b[0;32m    204\u001b[0m             \u001b[1;34m\"\"\"Wrapped function that adds timeout.\"\"\"\u001b[0m\u001b[1;33m\u001b[0m\u001b[0m\n\u001b[0;32m    205\u001b[0m             \u001b[0mkwargs\u001b[0m\u001b[1;33m[\u001b[0m\u001b[1;34m'timeout'\u001b[0m\u001b[1;33m]\u001b[0m \u001b[1;33m=\u001b[0m \u001b[0mnext\u001b[0m\u001b[1;33m(\u001b[0m\u001b[0mtimeouts\u001b[0m\u001b[1;33m)\u001b[0m\u001b[1;33m\u001b[0m\u001b[0m\n\u001b[1;32m--> 206\u001b[1;33m             \u001b[1;32mreturn\u001b[0m \u001b[0mfunc\u001b[0m\u001b[1;33m(\u001b[0m\u001b[1;33m*\u001b[0m\u001b[0margs\u001b[0m\u001b[1;33m,\u001b[0m \u001b[1;33m**\u001b[0m\u001b[0mkwargs\u001b[0m\u001b[1;33m)\u001b[0m\u001b[1;33m\u001b[0m\u001b[0m\n\u001b[0m\u001b[0;32m    207\u001b[0m \u001b[1;33m\u001b[0m\u001b[0m\n\u001b[0;32m    208\u001b[0m         \u001b[1;32mreturn\u001b[0m \u001b[0mfunc_with_timeout\u001b[0m\u001b[1;33m\u001b[0m\u001b[0m\n",
      "\u001b[1;32m~\\AppData\\Local\\Continuum\\anaconda3\\lib\\site-packages\\google\\api_core\\grpc_helpers.py\u001b[0m in \u001b[0;36merror_remapped_callable\u001b[1;34m(*args, **kwargs)\u001b[0m\n\u001b[0;32m     59\u001b[0m             \u001b[1;32mreturn\u001b[0m \u001b[0mcallable_\u001b[0m\u001b[1;33m(\u001b[0m\u001b[1;33m*\u001b[0m\u001b[0margs\u001b[0m\u001b[1;33m,\u001b[0m \u001b[1;33m**\u001b[0m\u001b[0mkwargs\u001b[0m\u001b[1;33m)\u001b[0m\u001b[1;33m\u001b[0m\u001b[0m\n\u001b[0;32m     60\u001b[0m         \u001b[1;32mexcept\u001b[0m \u001b[0mgrpc\u001b[0m\u001b[1;33m.\u001b[0m\u001b[0mRpcError\u001b[0m \u001b[1;32mas\u001b[0m \u001b[0mexc\u001b[0m\u001b[1;33m:\u001b[0m\u001b[1;33m\u001b[0m\u001b[0m\n\u001b[1;32m---> 61\u001b[1;33m             \u001b[0msix\u001b[0m\u001b[1;33m.\u001b[0m\u001b[0mraise_from\u001b[0m\u001b[1;33m(\u001b[0m\u001b[0mexceptions\u001b[0m\u001b[1;33m.\u001b[0m\u001b[0mfrom_grpc_error\u001b[0m\u001b[1;33m(\u001b[0m\u001b[0mexc\u001b[0m\u001b[1;33m)\u001b[0m\u001b[1;33m,\u001b[0m \u001b[0mexc\u001b[0m\u001b[1;33m)\u001b[0m\u001b[1;33m\u001b[0m\u001b[0m\n\u001b[0m\u001b[0;32m     62\u001b[0m \u001b[1;33m\u001b[0m\u001b[0m\n\u001b[0;32m     63\u001b[0m     \u001b[1;32mreturn\u001b[0m \u001b[0merror_remapped_callable\u001b[0m\u001b[1;33m\u001b[0m\u001b[0m\n",
      "\u001b[1;32m~\\AppData\\Local\\Continuum\\anaconda3\\lib\\site-packages\\six.py\u001b[0m in \u001b[0;36mraise_from\u001b[1;34m(value, from_value)\u001b[0m\n",
      "\u001b[1;31mFailedPrecondition\u001b[0m: 400 EntityType with display_name 'PAYER' already exists."
     ]
    }
   ],
   "source": [
    "\n",
    "entities_file = \"entity_input_v3.xlsx\"\n",
    "l = pd.ExcelFile(entities_file)\n",
    "entity_names_list = l.sheet_names\n",
    "#\n",
    "for sname in entity_names_list : \n",
    "    # Create the main entity\n",
    "    create_entity_type(project_id = PROJECT_ID, \n",
    "               display_name = '{}'.format(sname ), \n",
    "               kind = 'KIND_MAP')\n",
    "\n",
    "    #\n",
    "    m = pd.read_excel(entities_file, sheet_name= sname, header=None,index_col=0)\n",
    "    m.columns = list(range(m.shape[1]))\n",
    "    m = m.fillna(\"\")\n",
    "    m['comb'] = m.apply(lambda x : \",\".join(x), axis=1 )\n",
    "    # Create dict\n",
    "    d = dict(zip([ str(x) for x in list(m.index)], [ str(x )for x in list(m.comb)] ))\n",
    "    # Create Sub entities\n",
    "    k_arr = []\n",
    "    synn_arr = []\n",
    "    for k in d.keys() : \n",
    "        #\n",
    "        k_arr += [k]\n",
    "        synn_arr += [d[k].split(\",\")]\n",
    "    print(k_arr)\n",
    "    print(synn_arr)\n",
    "    #\n",
    "    create_entity(project_id = PROJECT_ID, \n",
    "              entity_type_id = _get_entity_type_ids(\n",
    "                  project_id = PROJECT_ID, \n",
    "                  display_name = '{}'.format(sname)\n",
    "              )[0], \n",
    "              entity_value = k_arr, \n",
    "              synonyms =  synn_arr\n",
    "    )"
   ]
  },
  {
   "cell_type": "markdown",
   "metadata": {},
   "source": [
    "## Step 3: Basic intent creation\n",
    "\n",
    "This will create an intent through API. Parameters/entities in the train set will be identified through a custom data input data style. "
   ]
  },
  {
   "cell_type": "code",
   "execution_count": 14,
   "metadata": {},
   "outputs": [],
   "source": [
    "\n",
    "def create_intent_using_file(excel_file_name):\n",
    "    \"\"\"\n",
    "    This will take in a csv file. The output will be that the intents will be created.\n",
    "    Sentences need not be broken down.\n",
    "    \"\"\"\n",
    "    # Read sheetnames\n",
    "    l = pd.ExcelFile(excel_file_name)\n",
    "    intents_name_list = l.sheet_names\n",
    "    #\n",
    "    for intent in intents_name_list : \n",
    "        # Loop over each file\n",
    "        m = pd.read_excel(\n",
    "            excel_file_name, \n",
    "            sheet_name= intent, \n",
    "            header=None).reset_index()\n",
    "        m.columns = ['id', 'data']\n",
    "        m['data'] = m['data'].apply(lambda x : [{\"text\" : x}])\n",
    "        tr = {\n",
    "            \"userSays\" : m.to_dict(orient='records')\n",
    "        }\n",
    "        # tr is the structure in input format\n",
    "        # Now train the structure\n",
    "        print(create_intent_v3(project_id = PROJECT_ID, \n",
    "                         display_name = intent, \n",
    "                         training_phrases_dict = tr, \n",
    "                         message_texts=[]))\n",
    "    return\n",
    "\n",
    "\n",
    "\n",
    "def create_intent_v3(project_id, display_name, training_phrases_dict, message_texts):\n",
    "    \"\"\"\n",
    "    Create an intent of the given intent type.\n",
    "    \n",
    "    This takes in a custom data type set. \n",
    "    \"\"\"\n",
    "    import dialogflow_v2 as dialogflow\n",
    "    intents_client = dialogflow.IntentsClient()\n",
    "\n",
    "    parent = intents_client.project_agent_path(project_id)\n",
    "    training_phrases = []\n",
    "    gg = []\n",
    "    \n",
    "    # Convert the custom data into MORE usable data\n",
    "    for x in training_phrases_dict['userSays'] : \n",
    "        gg += [x['data']]\n",
    "\n",
    "        \n",
    "    # Create the training phrases here\n",
    "    for training_phrases_part in gg:\n",
    "        parts_array = []\n",
    "        \n",
    "        for tp in training_phrases_part :\n",
    "            if len(tp.keys())  > 1 : \n",
    "                # This is the special part of the sentence\n",
    "                # add the other 4 parts\n",
    "                parts_array += [dialogflow.types.Intent.TrainingPhrase.Part(\n",
    "                    text=tp['text'], \n",
    "                    entity_type = tp['meta'],\n",
    "                    alias = tp['alias'] ,\n",
    "                    user_defined = tp['userDefined'])\n",
    "                ]\n",
    "            else:\n",
    "                # This is the single part of the sentence\n",
    "                parts_array += [dialogflow.types.Intent.TrainingPhrase.Part(text=tp['text'])]\n",
    "        \n",
    "        # Here we create a new training phrase for each provided part.\n",
    "        training_phrase = dialogflow.types.Intent.TrainingPhrase(parts=parts_array, type=2)\n",
    "        training_phrases.append(training_phrase)\n",
    "\n",
    "    # Create default messages for intent to be used as a response.\n",
    "    text = dialogflow.types.Intent.Message.Text(text=message_texts)\n",
    "    message = dialogflow.types.Intent.Message(text=text)\n",
    "\n",
    "    # Actual intent command \n",
    "    intent = dialogflow.types.Intent(\n",
    "        display_name=display_name,\n",
    "        training_phrases=training_phrases,\n",
    "        messages=[message])\n",
    "\n",
    "    # We get the response message after the intent has been created\n",
    "    response = intents_client.create_intent(parent, intent)\n",
    "\n",
    "    print('Intent created: {}'.format(response))"
   ]
  },
  {
   "cell_type": "code",
   "execution_count": 17,
   "metadata": {
    "scrolled": false
   },
   "outputs": [
    {
     "name": "stdout",
     "output_type": "stream",
     "text": [
      "Intent created: name: \"projects/poc1-b624d/agent/intents/fb263aae-0d65-4ba4-931b-a72c7a69c24a\"\n",
      "display_name: \"sales_template\"\n",
      "priority: 500000\n",
      "messages {\n",
      "  text {\n",
      "  }\n",
      "}\n",
      "\n",
      "None\n"
     ]
    }
   ],
   "source": [
    "# create_intent_v3(project_id= PROJECT_ID, \n",
    "#               display_name = 'SALES8', \n",
    "#               training_phrases_dict = tp2,\n",
    "#               message_texts = ['Sales detected'])\n",
    "create_intent_using_file(\"intent_creation_v2.xlsx\")"
   ]
  },
  {
   "cell_type": "code",
   "execution_count": 25,
   "metadata": {},
   "outputs": [],
   "source": [
    "from dialogflow_v2 import intents_client\n",
    "name = \"projects/poc1-b624d/agent/intents/fb263aae-0d65-4ba4-931b-a72c7a69c24a\"\n",
    "myintent = intents_client.IntentsClient().get_intent(name,intent_view=intents_client.enums.IntentView.INTENT_VIEW_FULL)\n",
    "myintent.Parameter.mandatory = True\n",
    "lang='en'\n",
    "response = intents_client.IntentsClient().update_intent(myintent, lang)"
   ]
  },
  {
   "cell_type": "code",
   "execution_count": 31,
   "metadata": {},
   "outputs": [
    {
     "data": {
      "text/plain": [
       "name: \"projects/poc1-b624d/agent/intents/fb263aae-0d65-4ba4-931b-a72c7a69c24a\"\n",
       "display_name: \"sales_template\"\n",
       "priority: 500000\n",
       "training_phrases {\n",
       "  name: \"613d3cc9-faff-496a-bafc-7fe80c05ab95\"\n",
       "  type: TEMPLATE\n",
       "  parts {\n",
       "    text: \"what are my sales for @HCP:HCP ?\"\n",
       "  }\n",
       "}\n",
       "training_phrases {\n",
       "  name: \"699fb545-23af-495b-8c6a-ce4eb99f0604\"\n",
       "  type: TEMPLATE\n",
       "  parts {\n",
       "    text: \"what are @HCP:HCP \\'s sales for @PRODUCT:PRODUCT\"\n",
       "  }\n",
       "}\n",
       "messages {\n",
       "  text {\n",
       "  }\n",
       "}"
      ]
     },
     "execution_count": 31,
     "metadata": {},
     "output_type": "execute_result"
    }
   ],
   "source": [
    "myintent"
   ]
  },
  {
   "cell_type": "code",
   "execution_count": 23,
   "metadata": {},
   "outputs": [
    {
     "data": {
      "text/plain": [
       "name: \"projects/poc1-b624d/agent/intents/fb263aae-0d65-4ba4-931b-a72c7a69c24a\"\n",
       "display_name: \"sales_template\"\n",
       "priority: 500000\n",
       "training_phrases {\n",
       "  name: \"613d3cc9-faff-496a-bafc-7fe80c05ab95\"\n",
       "  type: TEMPLATE\n",
       "  parts {\n",
       "    text: \"what are my sales for @HCP:HCP ?\"\n",
       "  }\n",
       "}\n",
       "training_phrases {\n",
       "  name: \"699fb545-23af-495b-8c6a-ce4eb99f0604\"\n",
       "  type: TEMPLATE\n",
       "  parts {\n",
       "    text: \"what are @HCP:HCP \\'s sales for @PRODUCT:PRODUCT\"\n",
       "  }\n",
       "}\n",
       "messages {\n",
       "  text {\n",
       "  }\n",
       "}"
      ]
     },
     "execution_count": 23,
     "metadata": {},
     "output_type": "execute_result"
    }
   ],
   "source": [
    "myintent.Parameter.mandatory"
   ]
  },
  {
   "cell_type": "markdown",
   "metadata": {},
   "source": [
    "## Step 4 : Detect intent through API\n",
    "\n",
    "The aim of this is to access an existing bot through the API. We will display the results."
   ]
  },
  {
   "cell_type": "code",
   "execution_count": 41,
   "metadata": {},
   "outputs": [],
   "source": [
    "def detect_intent_texts(project_id, session_id, texts, language_code):\n",
    "    \"\"\"\n",
    "    \n",
    "    Returns the result of detect intent with texts as inputs. \n",
    "    Using the same `session_id` between requests allows continuation of the conversaion.\n",
    "    \n",
    "    \"\"\"\n",
    "    import dialogflow_v2 as dialogflow\n",
    "    session_client = dialogflow.SessionsClient()\n",
    "    # Create session path\n",
    "    session = session_client.session_path(project_id, session_id)\n",
    "    \n",
    "    ans = []\n",
    "    for text in texts:\n",
    "        # Save the response for input query here\n",
    "        rsp = {}\n",
    "        \n",
    "        # The process to get output\n",
    "        text_input = dialogflow.types.TextInput(text=text, language_code=language_code)\n",
    "        query_input = dialogflow.types.QueryInput(text=text_input)\n",
    "        response = session_client.detect_intent(session=session, query_input=query_input)\n",
    "        \n",
    "        # Create the output response\n",
    "        rsp['input_query'] = text # Input question\n",
    "        rsp['intent'] = {\n",
    "            'detected_intent' : \"{}\".format(response.query_result.intent.display_name),\n",
    "            'intent_confidence' : \"{}\".format(round(response.query_result.intent_detection_confidence, 4))\n",
    "        } \n",
    "        d = {}\n",
    "        for k in list(response.query_result.parameters) : \n",
    "            if k == 'fields' : \n",
    "                pass\n",
    "            else:\n",
    "                val = response.query_result.parameters[k]\n",
    "                #print(k , val)\n",
    "                if len(val) == 1 : \n",
    "                    d[k] = val[0]\n",
    "                else : \n",
    "                    d[k] = val\n",
    "        rsp['parameters'] = d\n",
    "        \n",
    "        # Adding that to the array of input questions\n",
    "        ans += [rsp]        \n",
    "    return ans"
   ]
  },
  {
   "cell_type": "code",
   "execution_count": 47,
   "metadata": {},
   "outputs": [
    {
     "name": "stdout",
     "output_type": "stream",
     "text": [
      "------------------0---------------\n",
      "{'input_query': 'What are sales by Dr Bruce Morrison for lectrazine', 'intent': {'detected_intent': 'SALES8', 'intent_confidence': '0.41'}, 'parameters': {'DATE': '', 'PRODUCT': 'lectrazine ', 'METRIC': , 'HCP': 'Bruce Morrison'}}\n"
     ]
    }
   ],
   "source": [
    "# Set the questions\n",
    "ques =  ['What are sales by Dr Bruce Morrison for lectrazine']\n",
    "\n",
    "# The actual function call\n",
    "er = detect_intent_texts(project_id = PROJECT_ID, \n",
    "                    session_id = SESSION_ID, \n",
    "                    texts =ques, \n",
    "                    language_code= 'en')\n",
    "# Print the results\n",
    "for i, k in enumerate(er) :\n",
    "    print(\"------------------{}---------------\".format(i))\n",
    "    print(k)"
   ]
  },
  {
   "cell_type": "markdown",
   "metadata": {},
   "source": [
    "A known issue is \n",
    "\n",
    "https://github.com/googleapis/dialogflow-python-client-v2/issues/25\n",
    "\n",
    "We still need to find a workaround for this."
   ]
  },
  {
   "cell_type": "code",
   "execution_count": null,
   "metadata": {},
   "outputs": [],
   "source": []
  }
 ],
 "metadata": {
  "kernelspec": {
   "display_name": "Python 3",
   "language": "python",
   "name": "python3"
  },
  "language_info": {
   "codemirror_mode": {
    "name": "ipython",
    "version": 3
   },
   "file_extension": ".py",
   "mimetype": "text/x-python",
   "name": "python",
   "nbconvert_exporter": "python",
   "pygments_lexer": "ipython3",
   "version": "3.7.0"
  }
 },
 "nbformat": 4,
 "nbformat_minor": 2
}
